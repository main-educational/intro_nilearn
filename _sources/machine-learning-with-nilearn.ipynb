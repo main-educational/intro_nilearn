{
 "cells": [
  {
   "cell_type": "code",
   "execution_count": 1,
   "id": "bfe534c5",
   "metadata": {},
   "outputs": [],
   "source": [
    "# Let's keep our notebook clean, so it's a little more readable!\n",
    "import warnings\n",
    "warnings.filterwarnings('ignore')"
   ]
  },
  {
   "cell_type": "markdown",
   "id": "c338a2ed",
   "metadata": {},
   "source": [
    "# Predict age from resting state fMRI with [`scikit-learn`](https://scikit-learn.org)\n",
    "\n",
    "We will integrate what we've learned in the previous sections to extract data from *several* resting state fMRI images, and use that data as features in a machine learning model.\n",
    "\n",
    "The dataset consists of children (ages 3-13) and young adults (ages 18-39). We will use resting state fMRI data to try to predict who are adults and who are children."
   ]
  },
  {
   "cell_type": "markdown",
   "id": "e181c466",
   "metadata": {},
   "source": [
    "## Load the data"
   ]
  },
  {
   "cell_type": "code",
   "execution_count": 2,
   "id": "4e1bbd06",
   "metadata": {
    "tags": [
     "hide-output"
    ]
   },
   "outputs": [],
   "source": [
    "# change this to the location where you want the data to get downloaded\n",
    "data_dir = './nilearn_data'\n",
    "\n",
    "# Now fetch the data\n",
    "from nilearn import datasets\n",
    "development_dataset = datasets.fetch_development_fmri(\n",
    "                                                      data_dir=data_dir,\n",
    "                                                      reduce_confounds = False\n",
    "                                                    )\n",
    "\n",
    "data = development_dataset.func\n",
    "confounds = development_dataset.confounds"
   ]
  },
  {
   "cell_type": "markdown",
   "id": "7c7a85a7",
   "metadata": {},
   "source": [
    "How many individual subjects do we have?"
   ]
  },
  {
   "cell_type": "code",
   "execution_count": 3,
   "id": "5ee7e7b6",
   "metadata": {},
   "outputs": [
    {
     "data": {
      "text/plain": [
       "155"
      ]
     },
     "execution_count": 3,
     "metadata": {},
     "output_type": "execute_result"
    }
   ],
   "source": [
    "len(data)"
   ]
  },
  {
   "cell_type": "markdown",
   "id": "e869e085",
   "metadata": {},
   "source": [
    "## Get Y (our target) and assess its distribution"
   ]
  },
  {
   "cell_type": "code",
   "execution_count": 4,
   "id": "d2048eef",
   "metadata": {},
   "outputs": [
    {
     "data": {
      "text/html": [
       "<div>\n",
       "<style scoped>\n",
       "    .dataframe tbody tr th:only-of-type {\n",
       "        vertical-align: middle;\n",
       "    }\n",
       "\n",
       "    .dataframe tbody tr th {\n",
       "        vertical-align: top;\n",
       "    }\n",
       "\n",
       "    .dataframe thead th {\n",
       "        text-align: right;\n",
       "    }\n",
       "</style>\n",
       "<table border=\"1\" class=\"dataframe\">\n",
       "  <thead>\n",
       "    <tr style=\"text-align: right;\">\n",
       "      <th></th>\n",
       "      <th>participant_id</th>\n",
       "      <th>Age</th>\n",
       "      <th>AgeGroup</th>\n",
       "      <th>Child_Adult</th>\n",
       "      <th>Gender</th>\n",
       "      <th>Handedness</th>\n",
       "    </tr>\n",
       "  </thead>\n",
       "  <tbody>\n",
       "    <tr>\n",
       "      <th>0</th>\n",
       "      <td>sub-pixar123</td>\n",
       "      <td>27.060000</td>\n",
       "      <td>Adult</td>\n",
       "      <td>adult</td>\n",
       "      <td>F</td>\n",
       "      <td>R</td>\n",
       "    </tr>\n",
       "    <tr>\n",
       "      <th>1</th>\n",
       "      <td>sub-pixar124</td>\n",
       "      <td>33.440000</td>\n",
       "      <td>Adult</td>\n",
       "      <td>adult</td>\n",
       "      <td>M</td>\n",
       "      <td>R</td>\n",
       "    </tr>\n",
       "    <tr>\n",
       "      <th>2</th>\n",
       "      <td>sub-pixar125</td>\n",
       "      <td>31.000000</td>\n",
       "      <td>Adult</td>\n",
       "      <td>adult</td>\n",
       "      <td>M</td>\n",
       "      <td>R</td>\n",
       "    </tr>\n",
       "    <tr>\n",
       "      <th>3</th>\n",
       "      <td>sub-pixar126</td>\n",
       "      <td>19.000000</td>\n",
       "      <td>Adult</td>\n",
       "      <td>adult</td>\n",
       "      <td>F</td>\n",
       "      <td>R</td>\n",
       "    </tr>\n",
       "    <tr>\n",
       "      <th>4</th>\n",
       "      <td>sub-pixar127</td>\n",
       "      <td>23.000000</td>\n",
       "      <td>Adult</td>\n",
       "      <td>adult</td>\n",
       "      <td>F</td>\n",
       "      <td>R</td>\n",
       "    </tr>\n",
       "    <tr>\n",
       "      <th>5</th>\n",
       "      <td>sub-pixar128</td>\n",
       "      <td>27.000000</td>\n",
       "      <td>Adult</td>\n",
       "      <td>adult</td>\n",
       "      <td>M</td>\n",
       "      <td>R</td>\n",
       "    </tr>\n",
       "    <tr>\n",
       "      <th>6</th>\n",
       "      <td>sub-pixar129</td>\n",
       "      <td>23.000000</td>\n",
       "      <td>Adult</td>\n",
       "      <td>adult</td>\n",
       "      <td>F</td>\n",
       "      <td>R</td>\n",
       "    </tr>\n",
       "    <tr>\n",
       "      <th>7</th>\n",
       "      <td>sub-pixar130</td>\n",
       "      <td>21.000000</td>\n",
       "      <td>Adult</td>\n",
       "      <td>adult</td>\n",
       "      <td>F</td>\n",
       "      <td>R</td>\n",
       "    </tr>\n",
       "    <tr>\n",
       "      <th>8</th>\n",
       "      <td>sub-pixar131</td>\n",
       "      <td>39.000000</td>\n",
       "      <td>Adult</td>\n",
       "      <td>adult</td>\n",
       "      <td>M</td>\n",
       "      <td>R</td>\n",
       "    </tr>\n",
       "    <tr>\n",
       "      <th>9</th>\n",
       "      <td>sub-pixar132</td>\n",
       "      <td>22.000000</td>\n",
       "      <td>Adult</td>\n",
       "      <td>adult</td>\n",
       "      <td>F</td>\n",
       "      <td>R</td>\n",
       "    </tr>\n",
       "    <tr>\n",
       "      <th>10</th>\n",
       "      <td>sub-pixar133</td>\n",
       "      <td>21.000000</td>\n",
       "      <td>Adult</td>\n",
       "      <td>adult</td>\n",
       "      <td>M</td>\n",
       "      <td>R</td>\n",
       "    </tr>\n",
       "    <tr>\n",
       "      <th>11</th>\n",
       "      <td>sub-pixar134</td>\n",
       "      <td>25.000000</td>\n",
       "      <td>Adult</td>\n",
       "      <td>adult</td>\n",
       "      <td>M</td>\n",
       "      <td>R</td>\n",
       "    </tr>\n",
       "    <tr>\n",
       "      <th>12</th>\n",
       "      <td>sub-pixar135</td>\n",
       "      <td>21.000000</td>\n",
       "      <td>Adult</td>\n",
       "      <td>adult</td>\n",
       "      <td>F</td>\n",
       "      <td>R</td>\n",
       "    </tr>\n",
       "    <tr>\n",
       "      <th>13</th>\n",
       "      <td>sub-pixar136</td>\n",
       "      <td>25.000000</td>\n",
       "      <td>Adult</td>\n",
       "      <td>adult</td>\n",
       "      <td>F</td>\n",
       "      <td>R</td>\n",
       "    </tr>\n",
       "    <tr>\n",
       "      <th>14</th>\n",
       "      <td>sub-pixar137</td>\n",
       "      <td>34.000000</td>\n",
       "      <td>Adult</td>\n",
       "      <td>adult</td>\n",
       "      <td>F</td>\n",
       "      <td>R</td>\n",
       "    </tr>\n",
       "    <tr>\n",
       "      <th>15</th>\n",
       "      <td>sub-pixar138</td>\n",
       "      <td>28.000000</td>\n",
       "      <td>Adult</td>\n",
       "      <td>adult</td>\n",
       "      <td>F</td>\n",
       "      <td>R</td>\n",
       "    </tr>\n",
       "    <tr>\n",
       "      <th>16</th>\n",
       "      <td>sub-pixar139</td>\n",
       "      <td>18.000000</td>\n",
       "      <td>Adult</td>\n",
       "      <td>adult</td>\n",
       "      <td>F</td>\n",
       "      <td>R</td>\n",
       "    </tr>\n",
       "    <tr>\n",
       "      <th>17</th>\n",
       "      <td>sub-pixar140</td>\n",
       "      <td>19.000000</td>\n",
       "      <td>Adult</td>\n",
       "      <td>adult</td>\n",
       "      <td>M</td>\n",
       "      <td>R</td>\n",
       "    </tr>\n",
       "    <tr>\n",
       "      <th>18</th>\n",
       "      <td>sub-pixar141</td>\n",
       "      <td>22.000000</td>\n",
       "      <td>Adult</td>\n",
       "      <td>adult</td>\n",
       "      <td>F</td>\n",
       "      <td>R</td>\n",
       "    </tr>\n",
       "    <tr>\n",
       "      <th>19</th>\n",
       "      <td>sub-pixar142</td>\n",
       "      <td>33.000000</td>\n",
       "      <td>Adult</td>\n",
       "      <td>adult</td>\n",
       "      <td>F</td>\n",
       "      <td>R</td>\n",
       "    </tr>\n",
       "    <tr>\n",
       "      <th>20</th>\n",
       "      <td>sub-pixar143</td>\n",
       "      <td>22.000000</td>\n",
       "      <td>Adult</td>\n",
       "      <td>adult</td>\n",
       "      <td>F</td>\n",
       "      <td>R</td>\n",
       "    </tr>\n",
       "    <tr>\n",
       "      <th>21</th>\n",
       "      <td>sub-pixar144</td>\n",
       "      <td>20.000000</td>\n",
       "      <td>Adult</td>\n",
       "      <td>adult</td>\n",
       "      <td>F</td>\n",
       "      <td>R</td>\n",
       "    </tr>\n",
       "    <tr>\n",
       "      <th>22</th>\n",
       "      <td>sub-pixar145</td>\n",
       "      <td>22.000000</td>\n",
       "      <td>Adult</td>\n",
       "      <td>adult</td>\n",
       "      <td>F</td>\n",
       "      <td>R</td>\n",
       "    </tr>\n",
       "    <tr>\n",
       "      <th>23</th>\n",
       "      <td>sub-pixar146</td>\n",
       "      <td>18.000000</td>\n",
       "      <td>Adult</td>\n",
       "      <td>adult</td>\n",
       "      <td>M</td>\n",
       "      <td>R</td>\n",
       "    </tr>\n",
       "    <tr>\n",
       "      <th>24</th>\n",
       "      <td>sub-pixar147</td>\n",
       "      <td>21.000000</td>\n",
       "      <td>Adult</td>\n",
       "      <td>adult</td>\n",
       "      <td>M</td>\n",
       "      <td>L</td>\n",
       "    </tr>\n",
       "    <tr>\n",
       "      <th>25</th>\n",
       "      <td>sub-pixar148</td>\n",
       "      <td>31.000000</td>\n",
       "      <td>Adult</td>\n",
       "      <td>adult</td>\n",
       "      <td>M</td>\n",
       "      <td>R</td>\n",
       "    </tr>\n",
       "    <tr>\n",
       "      <th>26</th>\n",
       "      <td>sub-pixar149</td>\n",
       "      <td>24.000000</td>\n",
       "      <td>Adult</td>\n",
       "      <td>adult</td>\n",
       "      <td>F</td>\n",
       "      <td>R</td>\n",
       "    </tr>\n",
       "    <tr>\n",
       "      <th>27</th>\n",
       "      <td>sub-pixar150</td>\n",
       "      <td>19.000000</td>\n",
       "      <td>Adult</td>\n",
       "      <td>adult</td>\n",
       "      <td>F</td>\n",
       "      <td>R</td>\n",
       "    </tr>\n",
       "    <tr>\n",
       "      <th>28</th>\n",
       "      <td>sub-pixar151</td>\n",
       "      <td>23.000000</td>\n",
       "      <td>Adult</td>\n",
       "      <td>adult</td>\n",
       "      <td>F</td>\n",
       "      <td>R</td>\n",
       "    </tr>\n",
       "    <tr>\n",
       "      <th>29</th>\n",
       "      <td>sub-pixar152</td>\n",
       "      <td>21.000000</td>\n",
       "      <td>Adult</td>\n",
       "      <td>adult</td>\n",
       "      <td>F</td>\n",
       "      <td>R</td>\n",
       "    </tr>\n",
       "    <tr>\n",
       "      <th>30</th>\n",
       "      <td>sub-pixar153</td>\n",
       "      <td>30.000000</td>\n",
       "      <td>Adult</td>\n",
       "      <td>adult</td>\n",
       "      <td>M</td>\n",
       "      <td>R</td>\n",
       "    </tr>\n",
       "    <tr>\n",
       "      <th>31</th>\n",
       "      <td>sub-pixar154</td>\n",
       "      <td>29.000000</td>\n",
       "      <td>Adult</td>\n",
       "      <td>adult</td>\n",
       "      <td>M</td>\n",
       "      <td>R</td>\n",
       "    </tr>\n",
       "    <tr>\n",
       "      <th>32</th>\n",
       "      <td>sub-pixar155</td>\n",
       "      <td>26.000000</td>\n",
       "      <td>Adult</td>\n",
       "      <td>adult</td>\n",
       "      <td>M</td>\n",
       "      <td>R</td>\n",
       "    </tr>\n",
       "    <tr>\n",
       "      <th>33</th>\n",
       "      <td>sub-pixar001</td>\n",
       "      <td>4.774812</td>\n",
       "      <td>4yo</td>\n",
       "      <td>child</td>\n",
       "      <td>M</td>\n",
       "      <td>R</td>\n",
       "    </tr>\n",
       "    <tr>\n",
       "      <th>34</th>\n",
       "      <td>sub-pixar002</td>\n",
       "      <td>4.856947</td>\n",
       "      <td>4yo</td>\n",
       "      <td>child</td>\n",
       "      <td>F</td>\n",
       "      <td>R</td>\n",
       "    </tr>\n",
       "    <tr>\n",
       "      <th>35</th>\n",
       "      <td>sub-pixar003</td>\n",
       "      <td>4.153320</td>\n",
       "      <td>4yo</td>\n",
       "      <td>child</td>\n",
       "      <td>F</td>\n",
       "      <td>R</td>\n",
       "    </tr>\n",
       "    <tr>\n",
       "      <th>36</th>\n",
       "      <td>sub-pixar004</td>\n",
       "      <td>4.473648</td>\n",
       "      <td>4yo</td>\n",
       "      <td>child</td>\n",
       "      <td>F</td>\n",
       "      <td>R</td>\n",
       "    </tr>\n",
       "    <tr>\n",
       "      <th>37</th>\n",
       "      <td>sub-pixar005</td>\n",
       "      <td>4.837782</td>\n",
       "      <td>4yo</td>\n",
       "      <td>child</td>\n",
       "      <td>F</td>\n",
       "      <td>R</td>\n",
       "    </tr>\n",
       "    <tr>\n",
       "      <th>38</th>\n",
       "      <td>sub-pixar006</td>\n",
       "      <td>3.605749</td>\n",
       "      <td>3yo</td>\n",
       "      <td>child</td>\n",
       "      <td>F</td>\n",
       "      <td>R</td>\n",
       "    </tr>\n",
       "    <tr>\n",
       "      <th>39</th>\n",
       "      <td>sub-pixar007</td>\n",
       "      <td>4.249144</td>\n",
       "      <td>4yo</td>\n",
       "      <td>child</td>\n",
       "      <td>M</td>\n",
       "      <td>R</td>\n",
       "    </tr>\n",
       "  </tbody>\n",
       "</table>\n",
       "</div>"
      ],
      "text/plain": [
       "   participant_id        Age AgeGroup Child_Adult Gender Handedness\n",
       "0    sub-pixar123  27.060000    Adult       adult      F          R\n",
       "1    sub-pixar124  33.440000    Adult       adult      M          R\n",
       "2    sub-pixar125  31.000000    Adult       adult      M          R\n",
       "3    sub-pixar126  19.000000    Adult       adult      F          R\n",
       "4    sub-pixar127  23.000000    Adult       adult      F          R\n",
       "5    sub-pixar128  27.000000    Adult       adult      M          R\n",
       "6    sub-pixar129  23.000000    Adult       adult      F          R\n",
       "7    sub-pixar130  21.000000    Adult       adult      F          R\n",
       "8    sub-pixar131  39.000000    Adult       adult      M          R\n",
       "9    sub-pixar132  22.000000    Adult       adult      F          R\n",
       "10   sub-pixar133  21.000000    Adult       adult      M          R\n",
       "11   sub-pixar134  25.000000    Adult       adult      M          R\n",
       "12   sub-pixar135  21.000000    Adult       adult      F          R\n",
       "13   sub-pixar136  25.000000    Adult       adult      F          R\n",
       "14   sub-pixar137  34.000000    Adult       adult      F          R\n",
       "15   sub-pixar138  28.000000    Adult       adult      F          R\n",
       "16   sub-pixar139  18.000000    Adult       adult      F          R\n",
       "17   sub-pixar140  19.000000    Adult       adult      M          R\n",
       "18   sub-pixar141  22.000000    Adult       adult      F          R\n",
       "19   sub-pixar142  33.000000    Adult       adult      F          R\n",
       "20   sub-pixar143  22.000000    Adult       adult      F          R\n",
       "21   sub-pixar144  20.000000    Adult       adult      F          R\n",
       "22   sub-pixar145  22.000000    Adult       adult      F          R\n",
       "23   sub-pixar146  18.000000    Adult       adult      M          R\n",
       "24   sub-pixar147  21.000000    Adult       adult      M          L\n",
       "25   sub-pixar148  31.000000    Adult       adult      M          R\n",
       "26   sub-pixar149  24.000000    Adult       adult      F          R\n",
       "27   sub-pixar150  19.000000    Adult       adult      F          R\n",
       "28   sub-pixar151  23.000000    Adult       adult      F          R\n",
       "29   sub-pixar152  21.000000    Adult       adult      F          R\n",
       "30   sub-pixar153  30.000000    Adult       adult      M          R\n",
       "31   sub-pixar154  29.000000    Adult       adult      M          R\n",
       "32   sub-pixar155  26.000000    Adult       adult      M          R\n",
       "33   sub-pixar001   4.774812      4yo       child      M          R\n",
       "34   sub-pixar002   4.856947      4yo       child      F          R\n",
       "35   sub-pixar003   4.153320      4yo       child      F          R\n",
       "36   sub-pixar004   4.473648      4yo       child      F          R\n",
       "37   sub-pixar005   4.837782      4yo       child      F          R\n",
       "38   sub-pixar006   3.605749      3yo       child      F          R\n",
       "39   sub-pixar007   4.249144      4yo       child      M          R"
      ]
     },
     "execution_count": 4,
     "metadata": {},
     "output_type": "execute_result"
    }
   ],
   "source": [
    "# Let's load the phenotype data\n",
    "import pandas as pd\n",
    "\n",
    "pheno = pd.DataFrame(development_dataset.phenotypic)\n",
    "pheno.head(40)"
   ]
  },
  {
   "cell_type": "markdown",
   "id": "82f5b9de",
   "metadata": {},
   "source": [
    "Looks like there is a column labeling children and adults. Let's capture it in a variable"
   ]
  },
  {
   "cell_type": "code",
   "execution_count": 5,
   "id": "58004a61",
   "metadata": {},
   "outputs": [
    {
     "data": {
      "text/plain": [
       "0    adult\n",
       "1    adult\n",
       "2    adult\n",
       "3    adult\n",
       "4    adult\n",
       "Name: Child_Adult, dtype: object"
      ]
     },
     "execution_count": 5,
     "metadata": {},
     "output_type": "execute_result"
    }
   ],
   "source": [
    "y_ageclass = pheno['Child_Adult']\n",
    "y_ageclass.head()"
   ]
  },
  {
   "cell_type": "markdown",
   "id": "9cafafe0",
   "metadata": {},
   "source": [
    "Let's have a look at the distribution of our target variable"
   ]
  },
  {
   "cell_type": "code",
   "execution_count": 6,
   "id": "b07aeb1f",
   "metadata": {},
   "outputs": [
    {
     "data": {
      "text/plain": [
       "child    122\n",
       "adult     33\n",
       "Name: Child_Adult, dtype: int64"
      ]
     },
     "execution_count": 6,
     "metadata": {},
     "output_type": "execute_result"
    },
    {
     "data": {
      "image/png": "[encoded data removed]",
      "text/plain": [
       "<Figure size 640x480 with 1 Axes>"
      ]
     },
     "metadata": {
      "filenames": {
       "image/png": "/home/haoting/projects/intro_ML/content/_build/jupyter_execute/machine-learning-with-nilearn_11_1.png"
      }
     },
     "output_type": "display_data"
    }
   ],
   "source": [
    "import matplotlib.pyplot as plt\n",
    "import seaborn as sns\n",
    "sns.countplot(x=y_ageclass)\n",
    "pheno.Child_Adult.value_counts()"
   ]
  },
  {
   "cell_type": "markdown",
   "id": "e179f90c",
   "metadata": {},
   "source": [
    "This is very unbalanced -- there seems to be many more children than adults. It is something we can accomodate to a degree when training our model, but it is not within the scope of this tutorial. So let's select an arbitrary subset of the children to match the number of adults. As the 32 adults are at the beginning of the frame, this is easy to do:"
   ]
  },
  {
   "cell_type": "code",
   "execution_count": 7,
   "id": "d672c8c2",
   "metadata": {},
   "outputs": [],
   "source": [
    "data = data[0:66]\n",
    "pheno = pheno.head(66)\n",
    "y_ageclass = pheno['Child_Adult']"
   ]
  },
  {
   "cell_type": "markdown",
   "id": "526f7741",
   "metadata": {},
   "source": [
    "## Extract features"
   ]
  },
  {
   "cell_type": "markdown",
   "id": "9c71e1da",
   "metadata": {},
   "source": [
    "Here, we are going to use the same techniques we learned in the previous tutorial to extract resting state fMRI connectivity features from every subject. Let's reload our atlas, and re-initiate our masker and correlation_measure."
   ]
  },
  {
   "cell_type": "code",
   "execution_count": 8,
   "id": "0ef5ba77",
   "metadata": {
    "tags": [
     "hide-output"
    ]
   },
   "outputs": [],
   "source": [
    "from nilearn.input_data import NiftiLabelsMasker\n",
    "from nilearn.connectome import ConnectivityMeasure\n",
    "\n",
    "# load atlas\n",
    "multiscale = datasets.fetch_atlas_basc_multiscale_2015(data_dir=data_dir)\n",
    "atlas_filename = multiscale.scale064\n",
    "\n",
    "# initialize masker (change verbosity)\n",
    "masker = NiftiLabelsMasker(labels_img=atlas_filename, standardize=True,\n",
    "                           memory='nilearn_cache', resampling_target=\"data\",\n",
    "                           detrend=True, verbose=0)\n",
    "\n",
    "# initialize correlation measure, set to vectorize\n",
    "correlation_measure = ConnectivityMeasure(kind='correlation', vectorize=True,\n",
    "                                         discard_diagonal=True)"
   ]
  },
  {
   "cell_type": "markdown",
   "id": "fac7b5f3",
   "metadata": {},
   "source": [
    "Okay -- now that we have that taken care of, let's load all of the data!"
   ]
  },
  {
   "cell_type": "markdown",
   "id": "de906313",
   "metadata": {},
   "source": [
    "**NOTE**: On a laptop, this might take a few minutes."
   ]
  },
  {
   "cell_type": "code",
   "execution_count": 9,
   "id": "a4b44edb",
   "metadata": {
    "tags": [
     "hide-output"
    ]
   },
   "outputs": [
    {
     "name": "stdout",
     "output_type": "stream",
     "text": [
      "finished 1 of 66\n"
     ]
    },
    {
     "name": "stdout",
     "output_type": "stream",
     "text": [
      "finished 2 of 66\n"
     ]
    },
    {
     "name": "stdout",
     "output_type": "stream",
     "text": [
      "finished 3 of 66\n"
     ]
    },
    {
     "name": "stdout",
     "output_type": "stream",
     "text": [
      "finished 4 of 66\n"
     ]
    },
    {
     "name": "stdout",
     "output_type": "stream",
     "text": [
      "finished 5 of 66\n"
     ]
    },
    {
     "name": "stdout",
     "output_type": "stream",
     "text": [
      "finished 6 of 66\n"
     ]
    },
    {
     "name": "stdout",
     "output_type": "stream",
     "text": [
      "finished 7 of 66\n"
     ]
    },
    {
     "name": "stdout",
     "output_type": "stream",
     "text": [
      "finished 8 of 66\n"
     ]
    },
    {
     "name": "stdout",
     "output_type": "stream",
     "text": [
      "finished 9 of 66\n"
     ]
    },
    {
     "name": "stdout",
     "output_type": "stream",
     "text": [
      "finished 10 of 66\n"
     ]
    },
    {
     "name": "stdout",
     "output_type": "stream",
     "text": [
      "finished 11 of 66\n"
     ]
    },
    {
     "name": "stdout",
     "output_type": "stream",
     "text": [
      "finished 12 of 66\n"
     ]
    },
    {
     "name": "stdout",
     "output_type": "stream",
     "text": [
      "finished 13 of 66\n"
     ]
    },
    {
     "name": "stdout",
     "output_type": "stream",
     "text": [
      "finished 14 of 66\n"
     ]
    },
    {
     "name": "stdout",
     "output_type": "stream",
     "text": [
      "finished 15 of 66\n"
     ]
    },
    {
     "name": "stdout",
     "output_type": "stream",
     "text": [
      "finished 16 of 66\n"
     ]
    },
    {
     "name": "stdout",
     "output_type": "stream",
     "text": [
      "finished 17 of 66\n"
     ]
    },
    {
     "name": "stdout",
     "output_type": "stream",
     "text": [
      "finished 18 of 66\n"
     ]
    },
    {
     "name": "stdout",
     "output_type": "stream",
     "text": [
      "finished 19 of 66\n"
     ]
    },
    {
     "name": "stdout",
     "output_type": "stream",
     "text": [
      "finished 20 of 66\n"
     ]
    },
    {
     "name": "stdout",
     "output_type": "stream",
     "text": [
      "finished 21 of 66\n"
     ]
    },
    {
     "name": "stdout",
     "output_type": "stream",
     "text": [
      "finished 22 of 66\n"
     ]
    },
    {
     "name": "stdout",
     "output_type": "stream",
     "text": [
      "finished 23 of 66\n"
     ]
    },
    {
     "name": "stdout",
     "output_type": "stream",
     "text": [
      "finished 24 of 66\n"
     ]
    },
    {
     "name": "stdout",
     "output_type": "stream",
     "text": [
      "finished 25 of 66\n"
     ]
    },
    {
     "name": "stdout",
     "output_type": "stream",
     "text": [
      "finished 26 of 66\n"
     ]
    },
    {
     "name": "stdout",
     "output_type": "stream",
     "text": [
      "finished 27 of 66\n"
     ]
    },
    {
     "name": "stdout",
     "output_type": "stream",
     "text": [
      "finished 28 of 66\n"
     ]
    },
    {
     "name": "stdout",
     "output_type": "stream",
     "text": [
      "finished 29 of 66\n"
     ]
    },
    {
     "name": "stdout",
     "output_type": "stream",
     "text": [
      "finished 30 of 66\n"
     ]
    },
    {
     "name": "stdout",
     "output_type": "stream",
     "text": [
      "finished 31 of 66\n"
     ]
    },
    {
     "name": "stdout",
     "output_type": "stream",
     "text": [
      "finished 32 of 66\n"
     ]
    },
    {
     "name": "stdout",
     "output_type": "stream",
     "text": [
      "finished 33 of 66\n"
     ]
    },
    {
     "name": "stdout",
     "output_type": "stream",
     "text": [
      "finished 34 of 66\n"
     ]
    },
    {
     "name": "stdout",
     "output_type": "stream",
     "text": [
      "finished 35 of 66\n"
     ]
    },
    {
     "name": "stdout",
     "output_type": "stream",
     "text": [
      "finished 36 of 66\n"
     ]
    },
    {
     "name": "stdout",
     "output_type": "stream",
     "text": [
      "finished 37 of 66\n"
     ]
    },
    {
     "name": "stdout",
     "output_type": "stream",
     "text": [
      "finished 38 of 66\n"
     ]
    },
    {
     "name": "stdout",
     "output_type": "stream",
     "text": [
      "finished 39 of 66\n"
     ]
    },
    {
     "name": "stdout",
     "output_type": "stream",
     "text": [
      "finished 40 of 66\n"
     ]
    },
    {
     "name": "stdout",
     "output_type": "stream",
     "text": [
      "finished 41 of 66\n"
     ]
    },
    {
     "name": "stdout",
     "output_type": "stream",
     "text": [
      "finished 42 of 66\n"
     ]
    },
    {
     "name": "stdout",
     "output_type": "stream",
     "text": [
      "finished 43 of 66\n"
     ]
    },
    {
     "name": "stdout",
     "output_type": "stream",
     "text": [
      "finished 44 of 66\n"
     ]
    },
    {
     "name": "stdout",
     "output_type": "stream",
     "text": [
      "finished 45 of 66\n"
     ]
    },
    {
     "name": "stdout",
     "output_type": "stream",
     "text": [
      "finished 46 of 66\n"
     ]
    },
    {
     "name": "stdout",
     "output_type": "stream",
     "text": [
      "finished 47 of 66\n"
     ]
    },
    {
     "name": "stdout",
     "output_type": "stream",
     "text": [
      "finished 48 of 66\n"
     ]
    },
    {
     "name": "stdout",
     "output_type": "stream",
     "text": [
      "finished 49 of 66\n"
     ]
    },
    {
     "name": "stdout",
     "output_type": "stream",
     "text": [
      "finished 50 of 66\n"
     ]
    },
    {
     "name": "stdout",
     "output_type": "stream",
     "text": [
      "finished 51 of 66\n"
     ]
    },
    {
     "name": "stdout",
     "output_type": "stream",
     "text": [
      "finished 52 of 66\n"
     ]
    },
    {
     "name": "stdout",
     "output_type": "stream",
     "text": [
      "finished 53 of 66\n"
     ]
    },
    {
     "name": "stdout",
     "output_type": "stream",
     "text": [
      "finished 54 of 66\n"
     ]
    },
    {
     "name": "stdout",
     "output_type": "stream",
     "text": [
      "finished 55 of 66\n"
     ]
    },
    {
     "name": "stdout",
     "output_type": "stream",
     "text": [
      "finished 56 of 66\n"
     ]
    },
    {
     "name": "stdout",
     "output_type": "stream",
     "text": [
      "finished 57 of 66\n"
     ]
    },
    {
     "name": "stdout",
     "output_type": "stream",
     "text": [
      "finished 58 of 66\n"
     ]
    },
    {
     "name": "stdout",
     "output_type": "stream",
     "text": [
      "finished 59 of 66\n"
     ]
    },
    {
     "name": "stdout",
     "output_type": "stream",
     "text": [
      "finished 60 of 66\n"
     ]
    },
    {
     "name": "stdout",
     "output_type": "stream",
     "text": [
      "finished 61 of 66\n"
     ]
    },
    {
     "name": "stdout",
     "output_type": "stream",
     "text": [
      "finished 62 of 66\n"
     ]
    },
    {
     "name": "stdout",
     "output_type": "stream",
     "text": [
      "finished 63 of 66\n"
     ]
    },
    {
     "name": "stdout",
     "output_type": "stream",
     "text": [
      "finished 64 of 66\n"
     ]
    },
    {
     "name": "stdout",
     "output_type": "stream",
     "text": [
      "finished 65 of 66\n"
     ]
    },
    {
     "name": "stdout",
     "output_type": "stream",
     "text": [
      "finished 66 of 66\n"
     ]
    }
   ],
   "source": [
    "all_features = [] # here is where we will put the data (a container)\n",
    "\n",
    "for i,sub in enumerate(data):\n",
    "    # extract the timeseries from the ROIs in the atlas\n",
    "    time_series = masker.fit_transform(sub, confounds=confounds[i])\n",
    "    # create a region x region correlation matrix\n",
    "    correlation_matrix = correlation_measure.fit_transform([time_series])[0]\n",
    "    # add to our container\n",
    "    all_features.append(correlation_matrix)\n",
    "    # keep track of status\n",
    "    print('finished %s of %s'%(i+1,len(data)))"
   ]
  },
  {
   "cell_type": "code",
   "execution_count": 10,
   "id": "c5ee969d",
   "metadata": {},
   "outputs": [],
   "source": [
    "# Let's save the data to disk\n",
    "import numpy as np\n",
    "\n",
    "np.savez_compressed('data/MAIN_BASC064_subsamp_features', a=all_features)"
   ]
  },
  {
   "cell_type": "markdown",
   "id": "fe1891fd",
   "metadata": {},
   "source": [
    "In case you do not want to run the full loop on your computer, you can load the output of the loop here!"
   ]
  },
  {
   "cell_type": "code",
   "execution_count": 11,
   "id": "28a3c00a",
   "metadata": {},
   "outputs": [],
   "source": [
    "feat_file = 'data/MAIN_BASC064_subsamp_features.npz'\n",
    "X_features = np.load(feat_file)['a']"
   ]
  },
  {
   "cell_type": "code",
   "execution_count": 12,
   "id": "7c7f73b5",
   "metadata": {},
   "outputs": [
    {
     "data": {
      "text/plain": [
       "(66, 2016)"
      ]
     },
     "execution_count": 12,
     "metadata": {},
     "output_type": "execute_result"
    }
   ],
   "source": [
    "X_features.shape"
   ]
  },
  {
   "cell_type": "markdown",
   "id": "84598c87",
   "metadata": {},
   "source": [
    "Okay so we've got our features."
   ]
  },
  {
   "cell_type": "markdown",
   "id": "b40f3ccd",
   "metadata": {},
   "source": [
    "We can visualize our feature matrix"
   ]
  },
  {
   "cell_type": "code",
   "execution_count": 13,
   "id": "86d1825a",
   "metadata": {},
   "outputs": [
    {
     "data": {
      "text/plain": [
       "Text(0, 0.5, 'subjects')"
      ]
     },
     "execution_count": 13,
     "metadata": {},
     "output_type": "execute_result"
    },
    {
     "data": {
      "image/png": "[encoded data removed]",
      "text/plain": [
       "<Figure size 640x480 with 2 Axes>"
      ]
     },
     "metadata": {
      "filenames": {
       "image/png": "/home/haoting/projects/intro_ML/content/_build/jupyter_execute/machine-learning-with-nilearn_26_1.png"
      }
     },
     "output_type": "display_data"
    }
   ],
   "source": [
    "import matplotlib.pyplot as plt\n",
    "\n",
    "plt.imshow(X_features, aspect='auto', interpolation='nearest')\n",
    "plt.colorbar()\n",
    "plt.title('feature matrix')\n",
    "plt.xlabel('features')\n",
    "plt.ylabel('subjects')"
   ]
  },
  {
   "cell_type": "markdown",
   "id": "d4009afd",
   "metadata": {},
   "source": [
    "## Prepare data for machine learning\n",
    "\n",
    "Here, we will define a \"training sample\" where we can play around with our models. We will also set aside a \"test\" sample that we will not touch until the end."
   ]
  },
  {
   "cell_type": "markdown",
   "id": "504f0507",
   "metadata": {},
   "source": [
    "We want to be sure that our training and test sample are matched! We can do that with a \"stratified split\". \n",
    "Specifically, we will stratify by age class."
   ]
  },
  {
   "cell_type": "code",
   "execution_count": 14,
   "id": "b0b05df3",
   "metadata": {},
   "outputs": [
    {
     "data": {
      "text/plain": [
       "(66,)"
      ]
     },
     "execution_count": 14,
     "metadata": {},
     "output_type": "execute_result"
    }
   ],
   "source": [
    "y_ageclass.shape"
   ]
  },
  {
   "cell_type": "code",
   "execution_count": 15,
   "id": "fb581cb2",
   "metadata": {},
   "outputs": [
    {
     "name": "stdout",
     "output_type": "stream",
     "text": [
      "training: 52 testing: 14\n"
     ]
    }
   ],
   "source": [
    "from sklearn.model_selection import train_test_split\n",
    "\n",
    "# Split the sample to training/test and\n",
    "# stratify by age class, and also shuffle the data.\n",
    "\n",
    "X_train, X_test, y_train, y_test = train_test_split(\n",
    "                                                    X_features, # x\n",
    "                                                    y_ageclass, # y\n",
    "                                                    test_size = 0.2, # 80%/20% split  \n",
    "                                                    shuffle = True, # shuffle dataset\n",
    "                                                                    # before splitting\n",
    "                                                    stratify = y_ageclass, # keep\n",
    "                                                                           # distribution\n",
    "                                                                           # of ageclass\n",
    "                                                                           # consistent\n",
    "                                                                           # betw. train\n",
    "                                                                           # & test sets.\n",
    "                                                    random_state = 123 # same shuffle each\n",
    "                                                                       # time\n",
    "                                                                       )\n",
    "\n",
    "# print the size of our training and test groups\n",
    "print('training:', len(X_train),\n",
    "     'testing:', len(X_test))"
   ]
  },
  {
   "cell_type": "markdown",
   "id": "22a4bfef",
   "metadata": {},
   "source": [
    "Let's visualize the distributions to be sure they are matched"
   ]
  },
  {
   "cell_type": "code",
   "execution_count": 16,
   "id": "277c0f3c",
   "metadata": {},
   "outputs": [
    {
     "data": {
      "image/png": "[encoded data removed]",
      "text/plain": [
       "<Figure size 640x480 with 2 Axes>"
      ]
     },
     "metadata": {
      "filenames": {
       "image/png": "/home/haoting/projects/intro_ML/content/_build/jupyter_execute/machine-learning-with-nilearn_32_0.png"
      }
     },
     "output_type": "display_data"
    }
   ],
   "source": [
    "fig,(ax1,ax2) = plt.subplots(2)\n",
    "sns.countplot(x=y_train, ax=ax1, order=['child','adult'])\n",
    "ax1.set_title('Train')\n",
    "sns.countplot(x=y_test, ax=ax2, order=['child','adult'])\n",
    "ax2.set_title('Test')\n",
    "plt.tight_layout()"
   ]
  },
  {
   "cell_type": "markdown",
   "id": "7c1f228b",
   "metadata": {},
   "source": [
    "## Run your first model!\n",
    "\n",
    "Machine learning can get pretty fancy very quickly. We'll start with a very standard classification model called a Support Vector Classifier (SVC).\n",
    "\n",
    "While this may seem unambitious, simple models can be very robust. And we don't have enough data to create more complex models.\n",
    "\n",
    "For more information, see this excellent resource:\n",
    "https://hal.inria.fr/hal-01824205"
   ]
  },
  {
   "cell_type": "markdown",
   "id": "724bad5c",
   "metadata": {},
   "source": [
    "First, a quick review of SVM!\n",
    "![](https://docs.opencv.org/2.4/_images/optimal-hyperplane.png)"
   ]
  },
  {
   "cell_type": "markdown",
   "id": "256a57f1",
   "metadata": {},
   "source": [
    "Let's fit our first model!"
   ]
  },
  {
   "cell_type": "code",
   "execution_count": 17,
   "id": "aee83132",
   "metadata": {},
   "outputs": [
    {
     "data": {
      "text/plain": [
       "SVC(class_weight='balanced', kernel='linear')"
      ]
     },
     "execution_count": 17,
     "metadata": {},
     "output_type": "execute_result"
    }
   ],
   "source": [
    "from sklearn.svm import SVC\n",
    "l_svc = SVC(kernel='linear', class_weight='balanced') # define the model\n",
    "\n",
    "l_svc.fit(X_train, y_train) # fit the model"
   ]
  },
  {
   "cell_type": "markdown",
   "id": "cf9b384c",
   "metadata": {},
   "source": [
    "Well... that was easy. Let's see how well the model learned the data!\n",
    "\n",
    "We can judge our model on several criteria:\n",
    "* Accuracy: The proportion of predictions that were correct overall\n",
    "* Precision: Accuracy of cases predicted as positive\n",
    "* Recall: Number of true positives correctly predicted to be positive\n",
    "* f1 score: A balance between precision and recall\n",
    "\n",
    "Or, for a more visual explanation...\n",
    "\n",
    "![](https://upload.wikimedia.org/wikipedia/commons/2/26/Precisionrecall.svg)\n",
    "\n",
    "### Let's train a model"
   ]
  },
  {
   "cell_type": "code",
   "execution_count": 18,
   "id": "34c3f809",
   "metadata": {},
   "outputs": [],
   "source": [
    "from sklearn.metrics import classification_report, confusion_matrix, precision_score, f1_score\n",
    "\n",
    "# predict the training data based on the model\n",
    "y_pred = l_svc.predict(X_train)\n",
    "\n",
    "# calculate the model accuracy\n",
    "acc = l_svc.score(X_train, y_train)\n",
    "\n",
    "# calculate the model precision, recall and f1, all in one convenient report!\n",
    "cr = classification_report(y_true=y_train,\n",
    "                      y_pred = y_pred)\n",
    "\n",
    "# get a table to help us break down these scores\n",
    "cm = confusion_matrix(y_true=y_train, y_pred = y_pred)"
   ]
  },
  {
   "cell_type": "markdown",
   "id": "4e63a3de",
   "metadata": {},
   "source": [
    "Let's view our results and plot them all at once!"
   ]
  },
  {
   "cell_type": "code",
   "execution_count": 19,
   "id": "c1f1cdcd",
   "metadata": {},
   "outputs": [
    {
     "name": "stdout",
     "output_type": "stream",
     "text": [
      "accuracy: 1.0\n",
      "              precision    recall  f1-score   support\n",
      "\n",
      "       adult       1.00      1.00      1.00        26\n",
      "       child       1.00      1.00      1.00        26\n",
      "\n",
      "    accuracy                           1.00        52\n",
      "   macro avg       1.00      1.00      1.00        52\n",
      "weighted avg       1.00      1.00      1.00        52\n",
      "\n"
     ]
    },
    {
     "data": {
      "image/png": "[encoded data removed]",
      "text/plain": [
       "<Figure size 640x480 with 2 Axes>"
      ]
     },
     "metadata": {
      "filenames": {
       "image/png": "/home/haoting/projects/intro_ML/content/_build/jupyter_execute/machine-learning-with-nilearn_40_1.png"
      }
     },
     "output_type": "display_data"
    }
   ],
   "source": [
    "import itertools\n",
    "from pandas import DataFrame\n",
    "\n",
    "# print results\n",
    "print('accuracy:', acc)\n",
    "print(cr)\n",
    "\n",
    "# plot confusion matrix\n",
    "cmdf = DataFrame(cm, index = ['Adult','Child'], columns = ['Adult','Child'])\n",
    "sns.heatmap(cmdf, cmap = 'RdBu_r')\n",
    "plt.xlabel('Predicted')\n",
    "plt.ylabel('Observed')\n",
    "# label cells in matrix\n",
    "for i, j in itertools.product(range(cm.shape[0]), range(cm.shape[1])):\n",
    "        plt.text(j+0.5, i+0.5, format(cm[i, j], 'd'),\n",
    "                 horizontalalignment=\"center\",\n",
    "                 color=\"white\")"
   ]
  },
  {
   "cell_type": "markdown",
   "id": "84245e0b",
   "metadata": {},
   "source": [
    "````{admonition} Exercise\n",
    ":class: warning\n",
    "\n",
    "You can intepret the confusion matrix accroding to this reference graph.\n",
    "\n",
    "![](https://sebastianraschka.com/images/faq/multiclass-metric/conf_mat.png)\n",
    "\n",
    "HOLY COW! Machine learning is amazing!!! Almost a perfect fit!\n",
    "\n",
    "...which means there's something wrong. What's the problem here?\n",
    "````\n",
    "\n",
    "````{admonition} Solution\n",
    ":class: dropdown\n",
    "\n",
    "The model was not cross validated. \n",
    "\n",
    "Scroll down and unfold the cells to see the answer!\n",
    "\n",
    "````\n",
    "\n",
    "### Fit the model with the training data and cross-validation"
   ]
  },
  {
   "cell_type": "code",
   "execution_count": 20,
   "id": "7bc2a690",
   "metadata": {
    "tags": [
     "hide-input",
     "hide-output"
    ]
   },
   "outputs": [],
   "source": [
    "from sklearn.model_selection import cross_val_predict, cross_val_score\n",
    "\n",
    "# predict\n",
    "y_pred = cross_val_predict(l_svc, X_train, y_train,\n",
    "                           groups=y_train, cv=3)\n",
    "# scores\n",
    "acc = cross_val_score(l_svc, X_train, y_train,\n",
    "                     groups=y_train, cv=3)"
   ]
  },
  {
   "cell_type": "markdown",
   "id": "266e1bf2",
   "metadata": {},
   "source": [
    "We can look at the accuracy of the predictions for each fold of the cross-validation"
   ]
  },
  {
   "cell_type": "code",
   "execution_count": 21,
   "id": "0fc7a289",
   "metadata": {},
   "outputs": [
    {
     "ename": "SyntaxError",
     "evalue": "invalid syntax (441921491.py, line 1)",
     "output_type": "error",
     "traceback": [
      "\u001b[0;36m  File \u001b[0;32m\"/tmp/ipykernel_59661/441921491.py\"\u001b[0;36m, line \u001b[0;32m1\u001b[0m\n\u001b[0;31m    :tags: [hide-input, hide-output]\u001b[0m\n\u001b[0m    ^\u001b[0m\n\u001b[0;31mSyntaxError\u001b[0m\u001b[0;31m:\u001b[0m invalid syntax\n"
     ]
    }
   ],
   "source": [
    ":tags: [hide-input, hide-output]\n",
    "\n",
    "for i in range(len(acc)):\n",
    "    print('Fold %s -- Acc = %s'%(i, acc[i]))"
   ]
  },
  {
   "cell_type": "markdown",
   "id": "5a61aaad",
   "metadata": {},
   "source": [
    "We can also look at the overall accuracy of the model"
   ]
  },
  {
   "cell_type": "code",
   "execution_count": null,
   "id": "737eb8f2",
   "metadata": {},
   "outputs": [],
   "source": [
    ":tags: [hide-input, hide-output]\n",
    "\n",
    "from sklearn.metrics import accuracy_score\n",
    "overall_acc = accuracy_score(y_pred = y_pred, y_true = y_train)\n",
    "overall_cr = classification_report(y_pred = y_pred, y_true = y_train)\n",
    "overall_cm = confusion_matrix(y_pred = y_pred, y_true = y_train)\n",
    "print('Accuracy:',overall_acc)\n",
    "print(overall_cr)"
   ]
  },
  {
   "cell_type": "code",
   "execution_count": null,
   "id": "0955df2d",
   "metadata": {},
   "outputs": [],
   "source": [
    ":tags: [hide-input, hide-output]\n",
    "\n",
    "\n",
    "thresh = overall_cm.max() / 2\n",
    "cmdf = DataFrame(overall_cm, index = ['Adult','Child'], columns = ['Adult','Child'])\n",
    "sns.heatmap(cmdf, cmap='copper')\n",
    "plt.xlabel('Predicted')\n",
    "plt.ylabel('Observed')\n",
    "for i, j in itertools.product(range(overall_cm.shape[0]), range(overall_cm.shape[1])):\n",
    "        plt.text(j+0.5, i+0.5, format(overall_cm[i, j], 'd'),\n",
    "                 horizontalalignment=\"center\",\n",
    "                 color=\"white\")"
   ]
  },
  {
   "cell_type": "markdown",
   "id": "e56b2f48",
   "metadata": {},
   "source": [
    "The imporved model seems to be performing very well. Let's run some null model:"
   ]
  },
  {
   "cell_type": "code",
   "execution_count": null,
   "id": "9256ef47",
   "metadata": {},
   "outputs": [],
   "source": [
    ":tags: [hide-input, hide-output]\n",
    "\n",
    "from sklearn.model_selection import permutation_test_score\n",
    "score, permutation_score, pvalue = permutation_test_score(\n",
    "    l_svc, X_train, y_train, cv=3, scoring=\"accuracy\",\n",
    "    n_jobs=2, n_permutations=100)\n",
    "print(f'accuracy {score}, average permutation accuracy {permutation_score.mean()}, p value {pvalue}')"
   ]
  },
  {
   "cell_type": "markdown",
   "id": "430d9e43",
   "metadata": {},
   "source": [
    "so, as the classes are balanced, the chance level is close to 50%. The model performs significantly higher than chance.\n",
    "\n",
    "\n",
    "## Tweak your model\n",
    "\n",
    "It's very important to learn when and where it's appropriate to \"tweak\" your model.\n",
    "\n",
    "Since we have done all of the previous analysis with our training data, it's fine to try different models. But we **absolutely cannot** \"test\" it on our left-out-data. If we do, we are in great danger of overfitting.\n",
    "\n",
    "We could try other models, or tweak hyperparameters, but we are probably not powered sufficiently to do so, and would once again risk overfitting."
   ]
  },
  {
   "cell_type": "markdown",
   "id": "384b941a",
   "metadata": {},
   "source": [
    "But as a demonstration, we could see the impact of \"scaling\" our data. Certain machine learning algorithms perform better when all the input data is transformed to a uniform range of values. This is often between 0 and 1, or mean centered around with unit variance. We can perhaps look at the performance of the model after scaling the data."
   ]
  },
  {
   "cell_type": "code",
   "execution_count": null,
   "id": "36d0ff83",
   "metadata": {},
   "outputs": [],
   "source": [
    "# Scale the training data\n",
    "from sklearn.preprocessing import StandardScaler\n",
    "scaler = StandardScaler().fit(X_train)\n",
    "X_train_scl = scaler.transform(X_train)"
   ]
  },
  {
   "cell_type": "code",
   "execution_count": null,
   "id": "93a6ecba",
   "metadata": {},
   "outputs": [],
   "source": [
    "plt.imshow(X_train, aspect='auto', interpolation='nearest')\n",
    "plt.colorbar()\n",
    "plt.title('Training Data')\n",
    "plt.xlabel('features')\n",
    "plt.ylabel('subjects')"
   ]
  },
  {
   "cell_type": "code",
   "execution_count": null,
   "id": "c9531a4a",
   "metadata": {},
   "outputs": [],
   "source": [
    "plt.imshow(X_train_scl, aspect='auto', interpolation='nearest')\n",
    "plt.colorbar()\n",
    "plt.title('Scaled Training Data')\n",
    "plt.xlabel('features')\n",
    "plt.ylabel('subjects')"
   ]
  },
  {
   "cell_type": "code",
   "execution_count": null,
   "id": "139ffd8c",
   "metadata": {},
   "outputs": [],
   "source": [
    "# repeat the steps above to re-fit the model\n",
    "# and assess its performance\n",
    "\n",
    "# don't forget to switch X_train to X_train_scl\n",
    "\n",
    "# predict\n",
    "y_pred = cross_val_predict(l_svc, X_train_scl, y_train,\n",
    "                           groups=y_train, cv=3)\n",
    "\n",
    "# get scores\n",
    "overall_acc = accuracy_score(y_pred = y_pred, y_true = y_train)\n",
    "overall_cr = classification_report(y_pred = y_pred, y_true = y_train)\n",
    "overall_cm = confusion_matrix(y_pred = y_pred, y_true = y_train)\n",
    "print('Accuracy:',overall_acc)\n",
    "print(overall_cr)\n",
    "\n",
    "# plot\n",
    "thresh = overall_cm.max() / 2\n",
    "cmdf = DataFrame(overall_cm, index = ['Adult','Child'], columns = ['Adult','Child'])\n",
    "sns.heatmap(cmdf, cmap='copper')\n",
    "plt.xlabel('Predicted')\n",
    "plt.ylabel('Observed')\n",
    "for i, j in itertools.product(range(overall_cm.shape[0]), range(overall_cm.shape[1])):\n",
    "        plt.text(j+0.5, i+0.5, format(overall_cm[i, j], 'd'),\n",
    "                 horizontalalignment=\"center\",\n",
    "                 color=\"white\")"
   ]
  },
  {
   "cell_type": "markdown",
   "id": "8b9c627c",
   "metadata": {},
   "source": [
    "What do you think about the results of this model compared to the non-transformed model?"
   ]
  },
  {
   "cell_type": "markdown",
   "id": "6cf2652f",
   "metadata": {},
   "source": [
    "```{admonition} Exercise\n",
    ":class: note\n",
    "Try fitting a new SVC model and tweak one of the many parameters. \n",
    "Run cross-validation and see how well it goes. \n",
    "Make a new cell and type SVC? to see the possible hyperparameters\n",
    "```\n",
    "\n",
    "````{admonition} Answer\n",
    ":class: dropdown\n",
    "\n",
    "The SVC model has a parameter `kernel` and there are multiple options.\n",
    "\n",
    "You can check the documentation to find out more!\n",
    "\n",
    "````"
   ]
  },
  {
   "cell_type": "code",
   "execution_count": null,
   "id": "01ce536e",
   "metadata": {},
   "outputs": [],
   "source": [
    "#l_svc = SVC(kernel='linear') # define the model"
   ]
  },
  {
   "cell_type": "markdown",
   "id": "f214f539",
   "metadata": {},
   "source": [
    "## Can our model classify children from adults in completely un-seen data?\n",
    "\n",
    "Now that we've fit a model that we think has possibly learned how to decode childhood vs adulthood based on resting state fMRI signal, let's put it to the test. We will train our model on all the training data, and try to predict the age of the subjects we left out at the beginning of this section.\n",
    "\n",
    "Because we performed a transformation on our training data, we will need to transform our testing data using the *same information!*"
   ]
  },
  {
   "cell_type": "code",
   "execution_count": null,
   "id": "e01e06b1",
   "metadata": {},
   "outputs": [],
   "source": [
    "# Notice how we use the Scaler that was fit to X_train and apply it to X_test,\n",
    "# rather than creating a new Scaler for X_test\n",
    "X_test_scl = scaler.transform(X_test)"
   ]
  },
  {
   "cell_type": "markdown",
   "id": "a626aaa9",
   "metadata": {},
   "source": [
    "### And now for the moment of truth!\n",
    "\n",
    "No cross-validation needed here. We simply fit the model with the training data and use it to predict the testing data\n",
    "\n",
    "I'm so nervous. Let's just do it all in one cell"
   ]
  },
  {
   "cell_type": "code",
   "execution_count": null,
   "id": "ac68775e",
   "metadata": {},
   "outputs": [],
   "source": [
    "l_svc.fit(X_train_scl, y_train) # fit to training data\n",
    "y_pred = l_svc.predict(X_test_scl) # classify age class using testing data\n",
    "acc = l_svc.score(X_test_scl, y_test) # get accuracy\n",
    "cr = classification_report(y_pred=y_pred, y_true=y_test) # get prec., recall & f1\n",
    "cm = confusion_matrix(y_pred=y_pred, y_true=y_test) # get confusion matrix\n",
    "\n",
    "# print results\n",
    "print('accuracy =', acc)\n",
    "print(cr)\n",
    "\n",
    "# plot results\n",
    "thresh = cm.max() / 2\n",
    "cmdf = DataFrame(cm, index = ['Adult','Child'], columns = ['Adult','Child'])\n",
    "sns.heatmap(cmdf, cmap='RdBu_r')\n",
    "plt.xlabel('Predicted')\n",
    "plt.ylabel('Observed')\n",
    "for i, j in itertools.product(range(cm.shape[0]), range(cm.shape[1])):\n",
    "        plt.text(j+0.5, i+0.5, format(cm[i, j], 'd'),\n",
    "                 horizontalalignment=\"center\",\n",
    "                 color=\"white\")"
   ]
  },
  {
   "cell_type": "markdown",
   "id": "0288cae8",
   "metadata": {},
   "source": [
    "The model generalized very well! We may have found something in this data which does seem to be systematically related to age ... but what?"
   ]
  },
  {
   "cell_type": "markdown",
   "id": "17bae844",
   "metadata": {},
   "source": [
    "## Interpreting model feature importances\n",
    "Interpreting the feature importances of a machine learning model is a real can of worms. This is an area of active research. Unfortunately, it's hard to trust the feature importance of some models.\n",
    "\n",
    "You can find a whole tutorial on this subject here:\n",
    "http://gael-varoquaux.info/interpreting_ml_tuto/index.html\n",
    "\n",
    "For now, we'll just eschew better judgement and take a look at our feature importances."
   ]
  },
  {
   "cell_type": "markdown",
   "id": "ca857f79",
   "metadata": {},
   "source": [
    "We can access the feature importances (weights) used by the model"
   ]
  },
  {
   "cell_type": "code",
   "execution_count": null,
   "id": "2ebb893b",
   "metadata": {},
   "outputs": [],
   "source": [
    "l_svc.coef_"
   ]
  },
  {
   "cell_type": "markdown",
   "id": "356aa5dd",
   "metadata": {},
   "source": [
    "Let's plot these weights to see their distribution better"
   ]
  },
  {
   "cell_type": "code",
   "execution_count": null,
   "id": "42c39e80",
   "metadata": {},
   "outputs": [],
   "source": [
    "plt.bar(range(l_svc.coef_.shape[-1]),l_svc.coef_[0])\n",
    "plt.title('feature importances')\n",
    "plt.xlabel('feature')\n",
    "plt.ylabel('weight')"
   ]
  },
  {
   "cell_type": "markdown",
   "id": "6935f74c",
   "metadata": {},
   "source": [
    "Or perhaps it will be easier to visualize this information as a matrix similar to the one we started with\n",
    "\n",
    "We can use the correlation measure from before to perform an inverse transform"
   ]
  },
  {
   "cell_type": "code",
   "execution_count": null,
   "id": "9f1f3ee5",
   "metadata": {},
   "outputs": [],
   "source": [
    "correlation_measure.inverse_transform(l_svc.coef_).shape"
   ]
  },
  {
   "cell_type": "code",
   "execution_count": null,
   "id": "50f5427c",
   "metadata": {},
   "outputs": [],
   "source": [
    "from nilearn import plotting\n",
    "\n",
    "feat_exp_matrix = correlation_measure.inverse_transform(l_svc.coef_)[0]\n",
    "\n",
    "plotting.plot_matrix(feat_exp_matrix, figure=(10, 8),  \n",
    "                     labels=range(feat_exp_matrix.shape[0]),\n",
    "                     reorder=False,\n",
    "                    tri='lower')"
   ]
  },
  {
   "cell_type": "markdown",
   "id": "c1809c4e",
   "metadata": {},
   "source": [
    "Let's see if we can throw those features onto an actual brain.\n",
    "\n",
    "First, we'll need to gather the coordinates of each ROI of our atlas"
   ]
  },
  {
   "cell_type": "code",
   "execution_count": null,
   "id": "d61a66b4",
   "metadata": {},
   "outputs": [],
   "source": [
    "coords = plotting.find_parcellation_cut_coords(atlas_filename)"
   ]
  },
  {
   "cell_type": "markdown",
   "id": "27b2b8c0",
   "metadata": {},
   "source": [
    "And now we can use our feature matrix and the wonders of nilearn to create a connectome map where each node is an ROI, and each connection is weighted by the importance of the feature to the model"
   ]
  },
  {
   "cell_type": "code",
   "execution_count": null,
   "id": "3a80888a",
   "metadata": {},
   "outputs": [],
   "source": [
    "plotting.plot_connectome(feat_exp_matrix, coords, colorbar=True)"
   ]
  },
  {
   "cell_type": "markdown",
   "id": "6bd99330",
   "metadata": {},
   "source": [
    "Whoa!! That's...a lot to process. Maybe let's threshold the edges so that only the most important connections are visualized"
   ]
  },
  {
   "cell_type": "code",
   "execution_count": null,
   "id": "d6899c2d",
   "metadata": {},
   "outputs": [],
   "source": [
    "plotting.plot_connectome(feat_exp_matrix, coords, colorbar=True, edge_threshold=0.001)"
   ]
  },
  {
   "cell_type": "markdown",
   "id": "1ca0f389",
   "metadata": {},
   "source": [
    "That's definitely an improvement, but it's still a bit hard to see what's going on.\n",
    "Nilearn has a new feature that lets us view this data interactively!"
   ]
  },
  {
   "cell_type": "code",
   "execution_count": null,
   "id": "13a2546c",
   "metadata": {},
   "outputs": [],
   "source": [
    "plotting.view_connectome(feat_exp_matrix, coords, edge_threshold='90%')"
   ]
  },
  {
   "cell_type": "markdown",
   "id": "896906e6",
   "metadata": {},
   "source": [
    "You can choose to open the figure in a browser with the following lines:"
   ]
  },
  {
   "cell_type": "code",
   "execution_count": null,
   "id": "43eafc8f",
   "metadata": {},
   "outputs": [],
   "source": [
    "# view = plotting.view_connectome(feat_exp_matrix, coords, edge_threshold='90%')\n",
    "# view.open_in_browser()"
   ]
  }
 ],
 "metadata": {
  "jupytext": {
   "cell_metadata_filter": "-all",
   "formats": "md:myst",
   "text_representation": {
    "extension": ".md",
    "format_name": "myst",
    "format_version": 0.13,
    "jupytext_version": "1.11.5"
   }
  },
  "kernelspec": {
   "display_name": "Python 3",
   "language": "python",
   "name": "python3"
  },
  "language_info": {
   "codemirror_mode": {
    "name": "ipython",
    "version": 3
   },
   "file_extension": ".py",
   "mimetype": "text/x-python",
   "name": "python",
   "nbconvert_exporter": "python",
   "pygments_lexer": "ipython3",
   "version": "3.7.14"
  },
  "source_map": [
   16,
   20,
   28,
   32,
   46,
   50,
   52,
   56,
   62,
   66,
   69,
   73,
   78,
   82,
   86,
   90,
   94,
   112,
   116,
   120,
   136,
   141,
   145,
   150,
   152,
   156,
   160,
   168,
   174,
   179,
   183,
   208,
   212,
   219,
   230,
   235,
   239,
   244,
   260,
   275,
   279,
   297,
   322,
   332,
   336,
   342,
   346,
   358,
   372,
   376,
   385,
   398,
   402,
   409,
   417,
   425,
   452,
   456,
   474,
   476,
   484,
   488,
   496,
   517,
   521,
   531,
   535,
   537,
   541,
   546,
   552,
   556,
   565,
   571,
   573,
   577,
   579,
   583,
   585,
   590,
   592,
   596
  ]
 },
 "nbformat": 4,
 "nbformat_minor": 5
}